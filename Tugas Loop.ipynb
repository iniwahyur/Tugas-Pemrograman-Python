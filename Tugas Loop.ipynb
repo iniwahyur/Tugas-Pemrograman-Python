{
 "cells": [
  {
   "cell_type": "code",
   "execution_count": 1,
   "id": "c53f074d",
   "metadata": {},
   "outputs": [
    {
     "name": "stdout",
     "output_type": "stream",
     "text": [
      "10\n",
      "0 1 \n",
      "0 1 1 \n",
      "0 1 1 2 \n",
      "0 1 1 2 3 \n",
      "0 1 1 2 3 5 \n",
      "0 1 1 2 3 5 8 \n",
      "0 1 1 2 3 5 8 13 \n",
      "0 1 1 2 3 5 8 13 21 \n",
      "0 1 1 2 3 5 8 13 21 34 \n"
     ]
    }
   ],
   "source": [
    "#!/usr/bin/env python\n",
    "# coding: utf-8\n",
    "\n",
    "# In[1]:\n",
    "\n",
    "\n",
    "n = int(input())\n",
    "a = 0\n",
    "b = 1\n",
    "for i in range(n):\n",
    "\tif i == 0:\n",
    "\t\tcontinue\n",
    "\tprint(a, end=\" \")\n",
    "\tfor j in range(i):\n",
    "\t\ttemp = a\n",
    "\t\ta = b\n",
    "\t\tb = temp + b\n",
    "\t\tprint(a, end=\" \")\n",
    "\tprint()\n",
    "\ta = 0\n",
    "\tb = 1"
   ]
  },
  {
   "cell_type": "code",
   "execution_count": null,
   "id": "bd3c1bf6",
   "metadata": {},
   "outputs": [],
   "source": []
  }
 ],
 "metadata": {
  "kernelspec": {
   "display_name": "Python 3 (ipykernel)",
   "language": "python",
   "name": "python3"
  },
  "language_info": {
   "codemirror_mode": {
    "name": "ipython",
    "version": 3
   },
   "file_extension": ".py",
   "mimetype": "text/x-python",
   "name": "python",
   "nbconvert_exporter": "python",
   "pygments_lexer": "ipython3",
   "version": "3.9.13"
  }
 },
 "nbformat": 4,
 "nbformat_minor": 5
}
